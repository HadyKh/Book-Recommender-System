{
 "cells": [
  {
   "cell_type": "code",
   "execution_count": 41,
   "id": "e7e2482c",
   "metadata": {},
   "outputs": [],
   "source": [
    "import warnings\n",
    "warnings.filterwarnings(\"ignore\")\n",
    "\n",
    "import re\n",
    "import ast\n",
    "import nltk\n",
    "import random\n",
    "import numpy as np\n",
    "import pandas as pd\n",
    "import json\n",
    "from collections import Counter\n",
    "from sklearn.feature_extraction.text import CountVectorizer\n",
    "from random import randint\n",
    "from nltk import word_tokenize, FreqDist\n",
    "from collections import Counter\n",
    "import matplotlib.pyplot as plt\n",
    "from nltk.corpus import stopwords\n",
    "from sklearn import preprocessing\n",
    "from sklearn.preprocessing import MultiLabelBinarizer\n",
    "from sklearn.svm import SVC\n",
    "from sklearn.metrics import accuracy_score, classification_report, f1_score, recall_score, precision_score\n",
    "from nltk.stem import WordNetLemmatizer\n",
    "from sklearn.mixture import GaussianMixture\n",
    "from sklearn.neighbors import KNeighborsClassifier\n",
    "from sklearn.multiclass import OneVsRestClassifier\n",
    "from sklearn.model_selection import train_test_split\n",
    "from gensim.models.doc2vec import Doc2Vec, TaggedDocument\n",
    "from sklearn.feature_extraction.text import TfidfVectorizer\n",
    "from sklearn.metrics import accuracy_score, plot_confusion_matrix\n",
    "from sklearn.naive_bayes import MultinomialNB"
   ]
  },
  {
   "cell_type": "markdown",
   "id": "4c420115",
   "metadata": {},
   "source": [
    "# Data Preprocessing"
   ]
  },
  {
   "cell_type": "code",
   "execution_count": 2,
   "id": "10f5f26f",
   "metadata": {},
   "outputs": [
    {
     "data": {
      "text/html": [
       "<div>\n",
       "<style scoped>\n",
       "    .dataframe tbody tr th:only-of-type {\n",
       "        vertical-align: middle;\n",
       "    }\n",
       "\n",
       "    .dataframe tbody tr th {\n",
       "        vertical-align: top;\n",
       "    }\n",
       "\n",
       "    .dataframe thead th {\n",
       "        text-align: right;\n",
       "    }\n",
       "</style>\n",
       "<table border=\"1\" class=\"dataframe\">\n",
       "  <thead>\n",
       "    <tr style=\"text-align: right;\">\n",
       "      <th></th>\n",
       "      <th>Book title</th>\n",
       "      <th>Book author</th>\n",
       "      <th>Genre</th>\n",
       "      <th>Summary</th>\n",
       "    </tr>\n",
       "  </thead>\n",
       "  <tbody>\n",
       "    <tr>\n",
       "      <th>0</th>\n",
       "      <td>Animal Farm</td>\n",
       "      <td>George Orwell</td>\n",
       "      <td>{\"/m/016lj8\": \"Roman à clef\", \"/m/06nbt\": \"Sat...</td>\n",
       "      <td>Old Major, the old boar on the Manor Farm, ca...</td>\n",
       "    </tr>\n",
       "    <tr>\n",
       "      <th>1</th>\n",
       "      <td>A Clockwork Orange</td>\n",
       "      <td>Anthony Burgess</td>\n",
       "      <td>{\"/m/06n90\": \"Science Fiction\", \"/m/0l67h\": \"N...</td>\n",
       "      <td>Alex, a teenager living in near-future Englan...</td>\n",
       "    </tr>\n",
       "    <tr>\n",
       "      <th>2</th>\n",
       "      <td>The Plague</td>\n",
       "      <td>Albert Camus</td>\n",
       "      <td>{\"/m/02m4t\": \"Existentialism\", \"/m/02xlf\": \"Fi...</td>\n",
       "      <td>The text of The Plague is divided into five p...</td>\n",
       "    </tr>\n",
       "    <tr>\n",
       "      <th>3</th>\n",
       "      <td>An Enquiry Concerning Human Understanding</td>\n",
       "      <td>David Hume</td>\n",
       "      <td>NaN</td>\n",
       "      <td>The argument of the Enquiry proceeds by a ser...</td>\n",
       "    </tr>\n",
       "    <tr>\n",
       "      <th>4</th>\n",
       "      <td>A Fire Upon the Deep</td>\n",
       "      <td>Vernor Vinge</td>\n",
       "      <td>{\"/m/03lrw\": \"Hard science fiction\", \"/m/06n90...</td>\n",
       "      <td>The novel posits that space around the Milky ...</td>\n",
       "    </tr>\n",
       "    <tr>\n",
       "      <th>...</th>\n",
       "      <td>...</td>\n",
       "      <td>...</td>\n",
       "      <td>...</td>\n",
       "      <td>...</td>\n",
       "    </tr>\n",
       "    <tr>\n",
       "      <th>16554</th>\n",
       "      <td>Under Wildwood</td>\n",
       "      <td>Colin Meloy</td>\n",
       "      <td>NaN</td>\n",
       "      <td>Prue McKeel, having rescued her brother from ...</td>\n",
       "    </tr>\n",
       "    <tr>\n",
       "      <th>16555</th>\n",
       "      <td>Transfer of Power</td>\n",
       "      <td>Vince Flynn</td>\n",
       "      <td>{\"/m/01jfsb\": \"Thriller\", \"/m/02xlf\": \"Fiction\"}</td>\n",
       "      <td>The reader first meets Rapp while he is doing...</td>\n",
       "    </tr>\n",
       "    <tr>\n",
       "      <th>16556</th>\n",
       "      <td>Decoded</td>\n",
       "      <td>Jay-Z</td>\n",
       "      <td>{\"/m/0xdf\": \"Autobiography\"}</td>\n",
       "      <td>The book follows very rough chronological ord...</td>\n",
       "    </tr>\n",
       "    <tr>\n",
       "      <th>16557</th>\n",
       "      <td>America Again: Re-becoming The Greatness We Ne...</td>\n",
       "      <td>Stephen Colbert</td>\n",
       "      <td>NaN</td>\n",
       "      <td>Colbert addresses topics including Wall Stree...</td>\n",
       "    </tr>\n",
       "    <tr>\n",
       "      <th>16558</th>\n",
       "      <td>Poor Folk</td>\n",
       "      <td>Fyodor Dostoyevsky</td>\n",
       "      <td>{\"/m/02ql9\": \"Epistolary novel\", \"/m/014dfn\": ...</td>\n",
       "      <td>Makar Devushkin and Varvara Dobroselova are s...</td>\n",
       "    </tr>\n",
       "  </tbody>\n",
       "</table>\n",
       "<p>16559 rows × 4 columns</p>\n",
       "</div>"
      ],
      "text/plain": [
       "                                              Book title         Book author  \\\n",
       "0                                            Animal Farm       George Orwell   \n",
       "1                                     A Clockwork Orange     Anthony Burgess   \n",
       "2                                             The Plague        Albert Camus   \n",
       "3              An Enquiry Concerning Human Understanding          David Hume   \n",
       "4                                   A Fire Upon the Deep        Vernor Vinge   \n",
       "...                                                  ...                 ...   \n",
       "16554                                     Under Wildwood         Colin Meloy   \n",
       "16555                                  Transfer of Power         Vince Flynn   \n",
       "16556                                            Decoded               Jay-Z   \n",
       "16557  America Again: Re-becoming The Greatness We Ne...     Stephen Colbert   \n",
       "16558                                          Poor Folk  Fyodor Dostoyevsky   \n",
       "\n",
       "                                                   Genre  \\\n",
       "0      {\"/m/016lj8\": \"Roman à clef\", \"/m/06nbt\": \"Sat...   \n",
       "1      {\"/m/06n90\": \"Science Fiction\", \"/m/0l67h\": \"N...   \n",
       "2      {\"/m/02m4t\": \"Existentialism\", \"/m/02xlf\": \"Fi...   \n",
       "3                                                    NaN   \n",
       "4      {\"/m/03lrw\": \"Hard science fiction\", \"/m/06n90...   \n",
       "...                                                  ...   \n",
       "16554                                                NaN   \n",
       "16555   {\"/m/01jfsb\": \"Thriller\", \"/m/02xlf\": \"Fiction\"}   \n",
       "16556                       {\"/m/0xdf\": \"Autobiography\"}   \n",
       "16557                                                NaN   \n",
       "16558  {\"/m/02ql9\": \"Epistolary novel\", \"/m/014dfn\": ...   \n",
       "\n",
       "                                                 Summary  \n",
       "0       Old Major, the old boar on the Manor Farm, ca...  \n",
       "1       Alex, a teenager living in near-future Englan...  \n",
       "2       The text of The Plague is divided into five p...  \n",
       "3       The argument of the Enquiry proceeds by a ser...  \n",
       "4       The novel posits that space around the Milky ...  \n",
       "...                                                  ...  \n",
       "16554   Prue McKeel, having rescued her brother from ...  \n",
       "16555   The reader first meets Rapp while he is doing...  \n",
       "16556   The book follows very rough chronological ord...  \n",
       "16557   Colbert addresses topics including Wall Stree...  \n",
       "16558   Makar Devushkin and Varvara Dobroselova are s...  \n",
       "\n",
       "[16559 rows x 4 columns]"
      ]
     },
     "execution_count": 2,
     "metadata": {},
     "output_type": "execute_result"
    }
   ],
   "source": [
    "#loading dataset and removing unwanted features\n",
    "dataset = pd.read_csv(f'Book_summary.csv', encoding= 'unicode_escape')\n",
    "dataset = dataset.drop(['Publication Date', 'Wikibedia ID', 'Freebase ID'], axis=1)\n",
    "dataset"
   ]
  },
  {
   "cell_type": "code",
   "execution_count": 3,
   "id": "5e701ded",
   "metadata": {},
   "outputs": [
    {
     "data": {
      "text/html": [
       "<div>\n",
       "<style scoped>\n",
       "    .dataframe tbody tr th:only-of-type {\n",
       "        vertical-align: middle;\n",
       "    }\n",
       "\n",
       "    .dataframe tbody tr th {\n",
       "        vertical-align: top;\n",
       "    }\n",
       "\n",
       "    .dataframe thead th {\n",
       "        text-align: right;\n",
       "    }\n",
       "</style>\n",
       "<table border=\"1\" class=\"dataframe\">\n",
       "  <thead>\n",
       "    <tr style=\"text-align: right;\">\n",
       "      <th></th>\n",
       "      <th>Book title</th>\n",
       "      <th>Book author</th>\n",
       "      <th>Genre</th>\n",
       "      <th>Summary</th>\n",
       "    </tr>\n",
       "  </thead>\n",
       "  <tbody>\n",
       "    <tr>\n",
       "      <th>0</th>\n",
       "      <td>Animal Farm</td>\n",
       "      <td>George Orwell</td>\n",
       "      <td>{\"/m/016lj8\": \"Roman à clef\", \"/m/06nbt\": \"Sat...</td>\n",
       "      <td>Old Major, the old boar on the Manor Farm, ca...</td>\n",
       "    </tr>\n",
       "    <tr>\n",
       "      <th>1</th>\n",
       "      <td>A Clockwork Orange</td>\n",
       "      <td>Anthony Burgess</td>\n",
       "      <td>{\"/m/06n90\": \"Science Fiction\", \"/m/0l67h\": \"N...</td>\n",
       "      <td>Alex, a teenager living in near-future Englan...</td>\n",
       "    </tr>\n",
       "    <tr>\n",
       "      <th>2</th>\n",
       "      <td>The Plague</td>\n",
       "      <td>Albert Camus</td>\n",
       "      <td>{\"/m/02m4t\": \"Existentialism\", \"/m/02xlf\": \"Fi...</td>\n",
       "      <td>The text of The Plague is divided into five p...</td>\n",
       "    </tr>\n",
       "    <tr>\n",
       "      <th>3</th>\n",
       "      <td>A Fire Upon the Deep</td>\n",
       "      <td>Vernor Vinge</td>\n",
       "      <td>{\"/m/03lrw\": \"Hard science fiction\", \"/m/06n90...</td>\n",
       "      <td>The novel posits that space around the Milky ...</td>\n",
       "    </tr>\n",
       "    <tr>\n",
       "      <th>4</th>\n",
       "      <td>All Quiet on the Western Front</td>\n",
       "      <td>Erich Maria Remarque</td>\n",
       "      <td>{\"/m/098tmk\": \"War novel\", \"/m/016lj8\": \"Roman...</td>\n",
       "      <td>The book tells the story of Paul B??umer, a G...</td>\n",
       "    </tr>\n",
       "    <tr>\n",
       "      <th>...</th>\n",
       "      <td>...</td>\n",
       "      <td>...</td>\n",
       "      <td>...</td>\n",
       "      <td>...</td>\n",
       "    </tr>\n",
       "    <tr>\n",
       "      <th>12050</th>\n",
       "      <td>The Third Lynx</td>\n",
       "      <td>Timothy Zahn</td>\n",
       "      <td>{\"/m/06n90\": \"Science Fiction\"}</td>\n",
       "      <td>The story starts with former government agent...</td>\n",
       "    </tr>\n",
       "    <tr>\n",
       "      <th>12051</th>\n",
       "      <td>Remote Control</td>\n",
       "      <td>Andy McNab</td>\n",
       "      <td>{\"/m/01jfsb\": \"Thriller\", \"/m/02xlf\": \"Fiction...</td>\n",
       "      <td>The series follows the character of Nick Ston...</td>\n",
       "    </tr>\n",
       "    <tr>\n",
       "      <th>12052</th>\n",
       "      <td>Transfer of Power</td>\n",
       "      <td>Vince Flynn</td>\n",
       "      <td>{\"/m/01jfsb\": \"Thriller\", \"/m/02xlf\": \"Fiction\"}</td>\n",
       "      <td>The reader first meets Rapp while he is doing...</td>\n",
       "    </tr>\n",
       "    <tr>\n",
       "      <th>12053</th>\n",
       "      <td>Decoded</td>\n",
       "      <td>Jay-Z</td>\n",
       "      <td>{\"/m/0xdf\": \"Autobiography\"}</td>\n",
       "      <td>The book follows very rough chronological ord...</td>\n",
       "    </tr>\n",
       "    <tr>\n",
       "      <th>12054</th>\n",
       "      <td>Poor Folk</td>\n",
       "      <td>Fyodor Dostoyevsky</td>\n",
       "      <td>{\"/m/02ql9\": \"Epistolary novel\", \"/m/014dfn\": ...</td>\n",
       "      <td>Makar Devushkin and Varvara Dobroselova are s...</td>\n",
       "    </tr>\n",
       "  </tbody>\n",
       "</table>\n",
       "<p>12055 rows × 4 columns</p>\n",
       "</div>"
      ],
      "text/plain": [
       "                           Book title           Book author  \\\n",
       "0                         Animal Farm         George Orwell   \n",
       "1                  A Clockwork Orange       Anthony Burgess   \n",
       "2                          The Plague          Albert Camus   \n",
       "3                A Fire Upon the Deep          Vernor Vinge   \n",
       "4      All Quiet on the Western Front  Erich Maria Remarque   \n",
       "...                               ...                   ...   \n",
       "12050                  The Third Lynx          Timothy Zahn   \n",
       "12051                  Remote Control            Andy McNab   \n",
       "12052               Transfer of Power           Vince Flynn   \n",
       "12053                         Decoded                 Jay-Z   \n",
       "12054                       Poor Folk    Fyodor Dostoyevsky   \n",
       "\n",
       "                                                   Genre  \\\n",
       "0      {\"/m/016lj8\": \"Roman à clef\", \"/m/06nbt\": \"Sat...   \n",
       "1      {\"/m/06n90\": \"Science Fiction\", \"/m/0l67h\": \"N...   \n",
       "2      {\"/m/02m4t\": \"Existentialism\", \"/m/02xlf\": \"Fi...   \n",
       "3      {\"/m/03lrw\": \"Hard science fiction\", \"/m/06n90...   \n",
       "4      {\"/m/098tmk\": \"War novel\", \"/m/016lj8\": \"Roman...   \n",
       "...                                                  ...   \n",
       "12050                    {\"/m/06n90\": \"Science Fiction\"}   \n",
       "12051  {\"/m/01jfsb\": \"Thriller\", \"/m/02xlf\": \"Fiction...   \n",
       "12052   {\"/m/01jfsb\": \"Thriller\", \"/m/02xlf\": \"Fiction\"}   \n",
       "12053                       {\"/m/0xdf\": \"Autobiography\"}   \n",
       "12054  {\"/m/02ql9\": \"Epistolary novel\", \"/m/014dfn\": ...   \n",
       "\n",
       "                                                 Summary  \n",
       "0       Old Major, the old boar on the Manor Farm, ca...  \n",
       "1       Alex, a teenager living in near-future Englan...  \n",
       "2       The text of The Plague is divided into five p...  \n",
       "3       The novel posits that space around the Milky ...  \n",
       "4       The book tells the story of Paul B??umer, a G...  \n",
       "...                                                  ...  \n",
       "12050   The story starts with former government agent...  \n",
       "12051   The series follows the character of Nick Ston...  \n",
       "12052   The reader first meets Rapp while he is doing...  \n",
       "12053   The book follows very rough chronological ord...  \n",
       "12054   Makar Devushkin and Varvara Dobroselova are s...  \n",
       "\n",
       "[12055 rows x 4 columns]"
      ]
     },
     "execution_count": 3,
     "metadata": {},
     "output_type": "execute_result"
    }
   ],
   "source": [
    "#check for nulls and removing nans\n",
    "dataset.isnull().count()\n",
    "dataset = dataset.dropna(axis = 0)\n",
    "dataset = dataset.reset_index(drop=True)\n",
    "dataset"
   ]
  },
  {
   "cell_type": "code",
   "execution_count": 7,
   "id": "4fd8b78d",
   "metadata": {},
   "outputs": [],
   "source": [
    "def cleaned_text(raw_text):\n",
    "    raw_text = re.findall(r\"[a-zA-Z]+\", raw_text)\n",
    "    raw_text = \" \".join(raw_text).lower()\n",
    "    tokens = word_tokenize(raw_text)\n",
    "    stop_words = stopwords.words(\"english\")\n",
    "    lemmatizer = WordNetLemmatizer()\n",
    "    tokens = [lemmatizer.lemmatize(token) for token in tokens if token not in stop_words]\n",
    "    \n",
    "    return tokens"
   ]
  },
  {
   "cell_type": "code",
   "execution_count": 8,
   "id": "6590811e",
   "metadata": {},
   "outputs": [],
   "source": [
    "def convert_list_to_string(org_list, seperator=' '):\n",
    "    \"\"\" Convert list to string, by joining all item in list with given separator.\n",
    "        Returns the concatenated string \"\"\"\n",
    "    return seperator.join(org_list)"
   ]
  },
  {
   "cell_type": "code",
   "execution_count": 9,
   "id": "81ec93c9",
   "metadata": {},
   "outputs": [
    {
     "data": {
      "text/html": [
       "<div>\n",
       "<style scoped>\n",
       "    .dataframe tbody tr th:only-of-type {\n",
       "        vertical-align: middle;\n",
       "    }\n",
       "\n",
       "    .dataframe tbody tr th {\n",
       "        vertical-align: top;\n",
       "    }\n",
       "\n",
       "    .dataframe thead th {\n",
       "        text-align: right;\n",
       "    }\n",
       "</style>\n",
       "<table border=\"1\" class=\"dataframe\">\n",
       "  <thead>\n",
       "    <tr style=\"text-align: right;\">\n",
       "      <th></th>\n",
       "      <th>Book title</th>\n",
       "      <th>Book author</th>\n",
       "      <th>Genre</th>\n",
       "      <th>Book summary</th>\n",
       "    </tr>\n",
       "  </thead>\n",
       "  <tbody>\n",
       "    <tr>\n",
       "      <th>0</th>\n",
       "      <td>Animal Farm</td>\n",
       "      <td>George Orwell</td>\n",
       "      <td>Fiction</td>\n",
       "      <td>old major old boar manor farm call animal farm...</td>\n",
       "    </tr>\n",
       "    <tr>\n",
       "      <th>1</th>\n",
       "      <td>A Clockwork Orange</td>\n",
       "      <td>Anthony Burgess</td>\n",
       "      <td>Fiction</td>\n",
       "      <td>alex teenager living near future england lead ...</td>\n",
       "    </tr>\n",
       "    <tr>\n",
       "      <th>2</th>\n",
       "      <td>The Plague</td>\n",
       "      <td>Albert Camus</td>\n",
       "      <td>Fiction</td>\n",
       "      <td>text plague divided five part town oran thousa...</td>\n",
       "    </tr>\n",
       "    <tr>\n",
       "      <th>3</th>\n",
       "      <td>A Fire Upon the Deep</td>\n",
       "      <td>Vernor Vinge</td>\n",
       "      <td>Fiction</td>\n",
       "      <td>novel posit space around milky way divided con...</td>\n",
       "    </tr>\n",
       "    <tr>\n",
       "      <th>4</th>\n",
       "      <td>All Quiet on the Western Front</td>\n",
       "      <td>Erich Maria Remarque</td>\n",
       "      <td>War novel</td>\n",
       "      <td>book tell story paul b umer german soldier urg...</td>\n",
       "    </tr>\n",
       "    <tr>\n",
       "      <th>...</th>\n",
       "      <td>...</td>\n",
       "      <td>...</td>\n",
       "      <td>...</td>\n",
       "      <td>...</td>\n",
       "    </tr>\n",
       "    <tr>\n",
       "      <th>12050</th>\n",
       "      <td>The Third Lynx</td>\n",
       "      <td>Timothy Zahn</td>\n",
       "      <td>Science Fiction</td>\n",
       "      <td>story start former government agent frank comp...</td>\n",
       "    </tr>\n",
       "    <tr>\n",
       "      <th>12051</th>\n",
       "      <td>Remote Control</td>\n",
       "      <td>Andy McNab</td>\n",
       "      <td>Fiction</td>\n",
       "      <td>series follows character nick stone ex militar...</td>\n",
       "    </tr>\n",
       "    <tr>\n",
       "      <th>12052</th>\n",
       "      <td>Transfer of Power</td>\n",
       "      <td>Vince Flynn</td>\n",
       "      <td>Fiction</td>\n",
       "      <td>reader first meet rapp covert operation iran d...</td>\n",
       "    </tr>\n",
       "    <tr>\n",
       "      <th>12053</th>\n",
       "      <td>Decoded</td>\n",
       "      <td>Jay-Z</td>\n",
       "      <td>Autobiography</td>\n",
       "      <td>book follows rough chronological order switchi...</td>\n",
       "    </tr>\n",
       "    <tr>\n",
       "      <th>12054</th>\n",
       "      <td>Poor Folk</td>\n",
       "      <td>Fyodor Dostoyevsky</td>\n",
       "      <td>Speculative fiction</td>\n",
       "      <td>makar devushkin varvara dobroselova second cou...</td>\n",
       "    </tr>\n",
       "  </tbody>\n",
       "</table>\n",
       "<p>12055 rows × 4 columns</p>\n",
       "</div>"
      ],
      "text/plain": [
       "                           Book title           Book author  \\\n",
       "0                         Animal Farm         George Orwell   \n",
       "1                  A Clockwork Orange       Anthony Burgess   \n",
       "2                          The Plague          Albert Camus   \n",
       "3                A Fire Upon the Deep          Vernor Vinge   \n",
       "4      All Quiet on the Western Front  Erich Maria Remarque   \n",
       "...                               ...                   ...   \n",
       "12050                  The Third Lynx          Timothy Zahn   \n",
       "12051                  Remote Control            Andy McNab   \n",
       "12052               Transfer of Power           Vince Flynn   \n",
       "12053                         Decoded                 Jay-Z   \n",
       "12054                       Poor Folk    Fyodor Dostoyevsky   \n",
       "\n",
       "                     Genre                                       Book summary  \n",
       "0                  Fiction  old major old boar manor farm call animal farm...  \n",
       "1                  Fiction  alex teenager living near future england lead ...  \n",
       "2                  Fiction  text plague divided five part town oran thousa...  \n",
       "3                  Fiction  novel posit space around milky way divided con...  \n",
       "4                War novel  book tell story paul b umer german soldier urg...  \n",
       "...                    ...                                                ...  \n",
       "12050      Science Fiction  story start former government agent frank comp...  \n",
       "12051              Fiction  series follows character nick stone ex militar...  \n",
       "12052              Fiction  reader first meet rapp covert operation iran d...  \n",
       "12053        Autobiography  book follows rough chronological order switchi...  \n",
       "12054  Speculative fiction  makar devushkin varvara dobroselova second cou...  \n",
       "\n",
       "[12055 rows x 4 columns]"
      ]
     },
     "execution_count": 9,
     "metadata": {},
     "output_type": "execute_result"
    }
   ],
   "source": [
    "cleaned_dataset = dataset.copy()\n",
    "cleaned_dataset.insert(loc=3, column='Book summary', value=\"\")\n",
    "unique_genres = {}\n",
    "\n",
    "for index, row in cleaned_dataset.iterrows():\n",
    "    row[\"Genre\"] = list(ast.literal_eval(row[\"Genre\"]).values())\n",
    "    for item in row[\"Genre\"]:\n",
    "        if item not in unique_genres:\n",
    "            unique_genres[item] = 1\n",
    "        else:\n",
    "            unique_genres[item] += 1\n",
    "            \n",
    "    tokens = cleaned_text(str(row['Summary']))\n",
    "    # Convert list of strings to string\n",
    "    row['Book summary'] = convert_list_to_string(tokens)\n",
    "\n",
    "for index, row in cleaned_dataset.iterrows():\n",
    "    if len(row[\"Genre\"]) == 1:\n",
    "        row[\"Genre\"] = row[\"Genre\"][0]\n",
    "    else :\n",
    "        max_ = 0\n",
    "        pop_genre = \"\"\n",
    "        for item in row[\"Genre\"]:\n",
    "            if unique_genres[item] > max_:\n",
    "                max_ = unique_genres[item]\n",
    "                pop_genre = item\n",
    "        row[\"Genre\"] = pop_genre\n",
    "\n",
    "cleaned_dataset = pd.DataFrame(cleaned_dataset)\n",
    "cleaned_dataset.drop('Summary', axis=1)"
   ]
  },
  {
   "cell_type": "code",
   "execution_count": 10,
   "id": "5eb6fb52",
   "metadata": {},
   "outputs": [
    {
     "data": {
      "text/html": [
       "<div>\n",
       "<style scoped>\n",
       "    .dataframe tbody tr th:only-of-type {\n",
       "        vertical-align: middle;\n",
       "    }\n",
       "\n",
       "    .dataframe tbody tr th {\n",
       "        vertical-align: top;\n",
       "    }\n",
       "\n",
       "    .dataframe thead th {\n",
       "        text-align: right;\n",
       "    }\n",
       "</style>\n",
       "<table border=\"1\" class=\"dataframe\">\n",
       "  <thead>\n",
       "    <tr style=\"text-align: right;\">\n",
       "      <th></th>\n",
       "      <th>Book title</th>\n",
       "      <th>Book author</th>\n",
       "      <th>Book summary</th>\n",
       "      <th>Summary</th>\n",
       "    </tr>\n",
       "    <tr>\n",
       "      <th>Genre</th>\n",
       "      <th></th>\n",
       "      <th></th>\n",
       "      <th></th>\n",
       "      <th></th>\n",
       "    </tr>\n",
       "  </thead>\n",
       "  <tbody>\n",
       "    <tr>\n",
       "      <th>Absurdist fiction</th>\n",
       "      <td>2</td>\n",
       "      <td>2</td>\n",
       "      <td>2</td>\n",
       "      <td>2</td>\n",
       "    </tr>\n",
       "    <tr>\n",
       "      <th>Adventure novel</th>\n",
       "      <td>56</td>\n",
       "      <td>56</td>\n",
       "      <td>56</td>\n",
       "      <td>56</td>\n",
       "    </tr>\n",
       "    <tr>\n",
       "      <th>Albino bias</th>\n",
       "      <td>1</td>\n",
       "      <td>1</td>\n",
       "      <td>1</td>\n",
       "      <td>1</td>\n",
       "    </tr>\n",
       "    <tr>\n",
       "      <th>Alien invasion</th>\n",
       "      <td>1</td>\n",
       "      <td>1</td>\n",
       "      <td>1</td>\n",
       "      <td>1</td>\n",
       "    </tr>\n",
       "    <tr>\n",
       "      <th>Alternate history</th>\n",
       "      <td>17</td>\n",
       "      <td>17</td>\n",
       "      <td>17</td>\n",
       "      <td>17</td>\n",
       "    </tr>\n",
       "    <tr>\n",
       "      <th>...</th>\n",
       "      <td>...</td>\n",
       "      <td>...</td>\n",
       "      <td>...</td>\n",
       "      <td>...</td>\n",
       "    </tr>\n",
       "    <tr>\n",
       "      <th>War novel</th>\n",
       "      <td>26</td>\n",
       "      <td>26</td>\n",
       "      <td>26</td>\n",
       "      <td>26</td>\n",
       "    </tr>\n",
       "    <tr>\n",
       "      <th>Western</th>\n",
       "      <td>9</td>\n",
       "      <td>9</td>\n",
       "      <td>9</td>\n",
       "      <td>9</td>\n",
       "    </tr>\n",
       "    <tr>\n",
       "      <th>Western fiction</th>\n",
       "      <td>8</td>\n",
       "      <td>8</td>\n",
       "      <td>8</td>\n",
       "      <td>8</td>\n",
       "    </tr>\n",
       "    <tr>\n",
       "      <th>Wuxia</th>\n",
       "      <td>12</td>\n",
       "      <td>12</td>\n",
       "      <td>12</td>\n",
       "      <td>12</td>\n",
       "    </tr>\n",
       "    <tr>\n",
       "      <th>Young adult literature</th>\n",
       "      <td>259</td>\n",
       "      <td>259</td>\n",
       "      <td>259</td>\n",
       "      <td>259</td>\n",
       "    </tr>\n",
       "  </tbody>\n",
       "</table>\n",
       "<p>118 rows × 4 columns</p>\n",
       "</div>"
      ],
      "text/plain": [
       "                        Book title  Book author  Book summary  Summary\n",
       "Genre                                                                 \n",
       "Absurdist fiction                2            2             2        2\n",
       "Adventure novel                 56           56            56       56\n",
       "Albino bias                      1            1             1        1\n",
       "Alien invasion                   1            1             1        1\n",
       "Alternate history               17           17            17       17\n",
       "...                            ...          ...           ...      ...\n",
       "War novel                       26           26            26       26\n",
       "Western                          9            9             9        9\n",
       "Western fiction                  8            8             8        8\n",
       "Wuxia                           12           12            12       12\n",
       "Young adult literature         259          259           259      259\n",
       "\n",
       "[118 rows x 4 columns]"
      ]
     },
     "execution_count": 10,
     "metadata": {},
     "output_type": "execute_result"
    }
   ],
   "source": [
    "cleaned_dataset.groupby([\"Genre\"]).count()"
   ]
  },
  {
   "cell_type": "markdown",
   "id": "c24cac3a",
   "metadata": {},
   "source": [
    "# Feature Engineering"
   ]
  },
  {
   "cell_type": "markdown",
   "id": "2ee876da",
   "metadata": {},
   "source": [
    "## TF-IDF"
   ]
  },
  {
   "cell_type": "code",
   "execution_count": null,
   "id": "f4b2851a",
   "metadata": {},
   "outputs": [],
   "source": [
    "def tfidf_model(data):\n",
    "    tfIdf_vectorizer = TfidfVectorizer(use_idf=True, min_df=0.05)\n",
    "\n",
    "    tfidf_model = tfIdf_vectorizer.fit_transform(data)\n",
    "    tfidf_features = pd.DataFrame(tfidf_model.toarray(), columns = tfIdf_vectorizer.get_feature_names())\n",
    "    return tfidf_features"
   ]
  },
  {
   "cell_type": "code",
   "execution_count": null,
   "id": "6fa37b3f",
   "metadata": {},
   "outputs": [],
   "source": [
    "tfidf_features = tfidf_model(cleaned_dataset['Book summary'])\n",
    "tfidf_features"
   ]
  },
  {
   "cell_type": "markdown",
   "id": "63e03d35",
   "metadata": {},
   "source": [
    "## Doc2Vec"
   ]
  },
  {
   "cell_type": "code",
   "execution_count": null,
   "id": "a1dc03a2",
   "metadata": {},
   "outputs": [],
   "source": [
    "def doc2vec_model(data):  \n",
    "    documents = [doc for doc in data]\n",
    "    tagged_documents = [TaggedDocument(tokens, [i]) for i, tokens in enumerate(documents)]\n",
    "\n",
    "    doc2vec_model = Doc2Vec(vector_size=300, min_count=2, epochs=40)\n",
    "    doc2vec_model.build_vocab(tagged_documents)\n",
    "    doc2vec_model.train(tagged_documents, total_examples=doc2vec_model.corpus_count, epochs=doc2vec_model.epochs)\n",
    "\n",
    "    doc2vec_features = [doc2vec_model.infer_vector(doc.split()) for doc in documents]\n",
    "    doc2vec_features = np.array(doc2vec_features)\n",
    "    \n",
    "    return pd.DataFrame(doc2vec_features)"
   ]
  },
  {
   "cell_type": "code",
   "execution_count": null,
   "id": "41703911",
   "metadata": {},
   "outputs": [],
   "source": [
    "doc2vec_features = doc2vec_model(cleaned_dataset[\"Book summary\"])\n",
    "doc2vec_features"
   ]
  },
  {
   "cell_type": "markdown",
   "id": "c4e7a364",
   "metadata": {},
   "source": [
    "## TF-IDF + Doc2Vec"
   ]
  },
  {
   "cell_type": "code",
   "execution_count": null,
   "id": "9fbb731b",
   "metadata": {},
   "outputs": [],
   "source": [
    "tfidf_doc2vec_features = pd.concat([tfidf_features, doc2vec_features], axis=1)"
   ]
  },
  {
   "cell_type": "markdown",
   "id": "7cbd820c",
   "metadata": {},
   "source": [
    "# Clustering"
   ]
  },
  {
   "cell_type": "code",
   "execution_count": null,
   "id": "79d649a2",
   "metadata": {},
   "outputs": [],
   "source": [
    "import matplotlib.cm as cm\n",
    "from scipy.spatial.distance import cosine\n",
    "from sklearn.manifold import TSNE\n",
    "from sklearn.cluster import KMeans\n",
    "from sklearn.cluster import DBSCAN\n",
    "from yellowbrick.cluster import KElbowVisualizer"
   ]
  },
  {
   "cell_type": "code",
   "execution_count": null,
   "id": "d53da5f6",
   "metadata": {},
   "outputs": [],
   "source": [
    "model = KMeans(n_clusters = 30).fit_predict(doc2vec_features)"
   ]
  },
  {
   "cell_type": "code",
   "execution_count": null,
   "id": "4c5d037e",
   "metadata": {},
   "outputs": [],
   "source": [
    "model2 = DBSCAN(eps=0.1, min_samples=3, metric=\"cosine\").fit_predict(tfidf_doc2vec_features)"
   ]
  },
  {
   "cell_type": "code",
   "execution_count": null,
   "id": "ba295f5a",
   "metadata": {},
   "outputs": [],
   "source": [
    "np.unique(model2)"
   ]
  },
  {
   "cell_type": "code",
   "execution_count": null,
   "id": "1c0b5ab4",
   "metadata": {},
   "outputs": [],
   "source": [
    "indices = doc2vec_features[model2 == 0].index"
   ]
  },
  {
   "cell_type": "code",
   "execution_count": null,
   "id": "8482ed80",
   "metadata": {},
   "outputs": [],
   "source": [
    "indices"
   ]
  },
  {
   "cell_type": "code",
   "execution_count": null,
   "id": "336611a2",
   "metadata": {},
   "outputs": [],
   "source": [
    "cosine_scores = []\n",
    "for ind, val in enumerate(indices):\n",
    "    cosine_score = cosine(doc2vec_features[model2 == 0].iloc[0], doc2vec_features[model2 == 0].iloc[ind])\n",
    "    cosine_scores.append(cosine_score)\n",
    "    \n",
    "print(cosine_scores)"
   ]
  },
  {
   "cell_type": "code",
   "execution_count": null,
   "id": "104ab886",
   "metadata": {},
   "outputs": [],
   "source": [
    "np.argpartition(cosine_scores, 4)[:4]"
   ]
  },
  {
   "cell_type": "code",
   "execution_count": null,
   "id": "9f8410a9",
   "metadata": {},
   "outputs": [],
   "source": [
    "ya = doc2vec_features[model2 == 0].iloc[np.argpartition(cosine_scores, 4)[:4]].index"
   ]
  },
  {
   "cell_type": "code",
   "execution_count": null,
   "id": "73bd8988",
   "metadata": {},
   "outputs": [],
   "source": [
    "ya"
   ]
  },
  {
   "cell_type": "code",
   "execution_count": null,
   "id": "ecf8de3f",
   "metadata": {},
   "outputs": [],
   "source": [
    "cleaned_dataset.iloc[ya]"
   ]
  },
  {
   "cell_type": "markdown",
   "id": "958ba494",
   "metadata": {},
   "source": [
    "# Classification"
   ]
  },
  {
   "cell_type": "code",
   "execution_count": 12,
   "id": "186fa610",
   "metadata": {},
   "outputs": [],
   "source": [
    "def tfidf_model_classif(data_train, data_test):\n",
    "    tfIdf_vectorizer = TfidfVectorizer(use_idf=True, min_df=0.05)\n",
    "    tfidf_model = tfIdf_vectorizer.fit(data_train)\n",
    "    tfidf_train = tfIdf_vectorizer.transform(data_train)\n",
    "    tfidf_train = pd.DataFrame(tfidf_train.toarray(), columns = tfIdf_vectorizer.get_feature_names())\n",
    "    tfidf_test = tfIdf_vectorizer.transform(data_test)\n",
    "    tfidf_test = pd.DataFrame(tfidf_test.toarray(), columns = tfIdf_vectorizer.get_feature_names())\n",
    "    return tfidf_train, tfidf_test, tfidf_model"
   ]
  },
  {
   "cell_type": "code",
   "execution_count": 13,
   "id": "46803cf7",
   "metadata": {},
   "outputs": [],
   "source": [
    "def doc2vec_model_classif(data):  \n",
    "    documents = [doc for doc in data]\n",
    "    tagged_documents = [TaggedDocument(tokens, [i]) for i, tokens in enumerate(documents)]\n",
    "\n",
    "    doc2vec_model = Doc2Vec(vector_size=300, min_count=2, epochs=40)\n",
    "    doc2vec_model.build_vocab(tagged_documents)\n",
    "    doc2vec_model.train(tagged_documents, total_examples=doc2vec_model.corpus_count, epochs=doc2vec_model.epochs)\n",
    "\n",
    "    doc2vec_features = [doc2vec_model.infer_vector(doc.split()) for doc in documents]\n",
    "    doc2vec_features = np.array(doc2vec_features)\n",
    "    \n",
    "    return pd.DataFrame(doc2vec_features)"
   ]
  },
  {
   "cell_type": "code",
   "execution_count": 14,
   "id": "d52cf990",
   "metadata": {
    "scrolled": true
   },
   "outputs": [],
   "source": [
    "def model_knn(x_train, y_train, x_test, y_test):\n",
    "    classifier = KNeighborsClassifier(n_neighbors = 5, metric = 'minkowski', p = 2) #choosing Euclidean distance metric\n",
    "    classifier.fit(x_train, y_train)\n",
    "    ypred = classifier.predict(x_test)\n",
    "    accuracy = accuracy_score(y_test, ypred)*100\n",
    "    print(f'K-NN: {accuracy}')\n",
    "    \n",
    "    return classifier, ypred, accuracy"
   ]
  },
  {
   "cell_type": "code",
   "execution_count": 15,
   "id": "b3d49e5e",
   "metadata": {},
   "outputs": [],
   "source": [
    "def model_svm(x_train, y_train, x_test, y_test):\n",
    "    cs = SVC(kernel = 'rbf', random_state = 0)\n",
    "    cs.fit(x_train, y_train)\n",
    "    ypred = cs.predict(x_test)\n",
    "    accuracy = accuracy_score(y_test, ypred)*100\n",
    "    print(f'ٍSVM: {accuracy}')\n",
    "    plot_confusion_matrix(cs, x_test, y_test)\n",
    "    \n",
    "    return cs, ypred, accuracy"
   ]
  },
  {
   "cell_type": "code",
   "execution_count": 63,
   "id": "8553ff5f",
   "metadata": {},
   "outputs": [],
   "source": [
    "def train_test_data(xdata, ydata):\n",
    "    x_train, x_test, y_train, y_test = train_test_split(xdata, ydata, test_size = 0.3, random_state=0)\n",
    "    x_train = x_train.reset_index(drop = True)\n",
    "    x_test = x_test.reset_index(drop = True)\n",
    "    return x_train, x_test, y_train, y_test"
   ]
  },
  {
   "cell_type": "code",
   "execution_count": 28,
   "id": "75a04e00",
   "metadata": {},
   "outputs": [],
   "source": [
    "def plt_bar(labels_name, yvalues, title, xlabel, ylabel):\n",
    "    fig, ax = plt.subplots(figsize=(20, 20))\n",
    "    plt.bar(labels_name, yvalues)\n",
    "    plt.title(title, fontsize = 'x-large')\n",
    "    plt.ylabel(ylabel, fontsize = 'x-large')\n",
    "    plt.xlabel(xlabel, fontsize = 'x-large')\n",
    "    plt.legend(bbox_to_anchor=(1.05, 1), loc=2, borderaxespad=0.)\n",
    "    \n",
    "    plt.show()"
   ]
  },
  {
   "cell_type": "markdown",
   "id": "069be9a8",
   "metadata": {},
   "source": [
    "# preprocessing data For classification process\n",
    "preparing the data for binary classification classification"
   ]
  },
  {
   "cell_type": "markdown",
   "id": "1d1ec496",
   "metadata": {},
   "source": [
    "##### The genre row contains data stored in the Dictionary format\n",
    "so, the following steps is to convert this data to a dictionary format to be accessible"
   ]
  },
  {
   "cell_type": "code",
   "execution_count": 17,
   "id": "b4f1d211",
   "metadata": {},
   "outputs": [],
   "source": [
    "list_genre = []\n",
    "for i in dataset['Genre']:\n",
    "    list_genre.append(list(json.loads(i).values())) # reading each cell's content and parse it"
   ]
  },
  {
   "cell_type": "code",
   "execution_count": 18,
   "id": "4fd40eeb",
   "metadata": {},
   "outputs": [
    {
     "data": {
      "text/html": [
       "<div>\n",
       "<style scoped>\n",
       "    .dataframe tbody tr th:only-of-type {\n",
       "        vertical-align: middle;\n",
       "    }\n",
       "\n",
       "    .dataframe tbody tr th {\n",
       "        vertical-align: top;\n",
       "    }\n",
       "\n",
       "    .dataframe thead th {\n",
       "        text-align: right;\n",
       "    }\n",
       "</style>\n",
       "<table border=\"1\" class=\"dataframe\">\n",
       "  <thead>\n",
       "    <tr style=\"text-align: right;\">\n",
       "      <th></th>\n",
       "      <th>Summary</th>\n",
       "      <th>Genre</th>\n",
       "    </tr>\n",
       "  </thead>\n",
       "  <tbody>\n",
       "    <tr>\n",
       "      <th>0</th>\n",
       "      <td>old major old boar manor farm call animal farm...</td>\n",
       "      <td>[Roman à clef, Satire, Children's literature, ...</td>\n",
       "    </tr>\n",
       "    <tr>\n",
       "      <th>1</th>\n",
       "      <td>alex teenager living near future england lead ...</td>\n",
       "      <td>[Science Fiction, Novella, Speculative fiction...</td>\n",
       "    </tr>\n",
       "    <tr>\n",
       "      <th>2</th>\n",
       "      <td>text plague divided five part town oran thousa...</td>\n",
       "      <td>[Existentialism, Fiction, Absurdist fiction, N...</td>\n",
       "    </tr>\n",
       "    <tr>\n",
       "      <th>3</th>\n",
       "      <td>novel posit space around milky way divided con...</td>\n",
       "      <td>[Hard science fiction, Science Fiction, Specul...</td>\n",
       "    </tr>\n",
       "    <tr>\n",
       "      <th>4</th>\n",
       "      <td>book tell story paul b umer german soldier urg...</td>\n",
       "      <td>[War novel, Roman à clef]</td>\n",
       "    </tr>\n",
       "    <tr>\n",
       "      <th>...</th>\n",
       "      <td>...</td>\n",
       "      <td>...</td>\n",
       "    </tr>\n",
       "    <tr>\n",
       "      <th>12050</th>\n",
       "      <td>story start former government agent frank comp...</td>\n",
       "      <td>[Science Fiction]</td>\n",
       "    </tr>\n",
       "    <tr>\n",
       "      <th>12051</th>\n",
       "      <td>series follows character nick stone ex militar...</td>\n",
       "      <td>[Thriller, Fiction, Suspense]</td>\n",
       "    </tr>\n",
       "    <tr>\n",
       "      <th>12052</th>\n",
       "      <td>reader first meet rapp covert operation iran d...</td>\n",
       "      <td>[Thriller, Fiction]</td>\n",
       "    </tr>\n",
       "    <tr>\n",
       "      <th>12053</th>\n",
       "      <td>book follows rough chronological order switchi...</td>\n",
       "      <td>[Autobiography]</td>\n",
       "    </tr>\n",
       "    <tr>\n",
       "      <th>12054</th>\n",
       "      <td>makar devushkin varvara dobroselova second cou...</td>\n",
       "      <td>[Epistolary novel, Speculative fiction]</td>\n",
       "    </tr>\n",
       "  </tbody>\n",
       "</table>\n",
       "<p>12055 rows × 2 columns</p>\n",
       "</div>"
      ],
      "text/plain": [
       "                                                 Summary  \\\n",
       "0      old major old boar manor farm call animal farm...   \n",
       "1      alex teenager living near future england lead ...   \n",
       "2      text plague divided five part town oran thousa...   \n",
       "3      novel posit space around milky way divided con...   \n",
       "4      book tell story paul b umer german soldier urg...   \n",
       "...                                                  ...   \n",
       "12050  story start former government agent frank comp...   \n",
       "12051  series follows character nick stone ex militar...   \n",
       "12052  reader first meet rapp covert operation iran d...   \n",
       "12053  book follows rough chronological order switchi...   \n",
       "12054  makar devushkin varvara dobroselova second cou...   \n",
       "\n",
       "                                                   Genre  \n",
       "0      [Roman à clef, Satire, Children's literature, ...  \n",
       "1      [Science Fiction, Novella, Speculative fiction...  \n",
       "2      [Existentialism, Fiction, Absurdist fiction, N...  \n",
       "3      [Hard science fiction, Science Fiction, Specul...  \n",
       "4                              [War novel, Roman à clef]  \n",
       "...                                                  ...  \n",
       "12050                                  [Science Fiction]  \n",
       "12051                      [Thriller, Fiction, Suspense]  \n",
       "12052                                [Thriller, Fiction]  \n",
       "12053                                    [Autobiography]  \n",
       "12054            [Epistolary novel, Speculative fiction]  \n",
       "\n",
       "[12055 rows x 2 columns]"
      ]
     },
     "execution_count": 18,
     "metadata": {},
     "output_type": "execute_result"
    }
   ],
   "source": [
    "# creating the new Dataset dataframe\n",
    "classif_dataset = pd.DataFrame(list(zip(cleaned_dataset['Book summary'].values, list_genre)), columns = [\"Summary\", \"Genre\"])\n",
    "classif_dataset"
   ]
  },
  {
   "cell_type": "code",
   "execution_count": 23,
   "id": "bb5dcfd4",
   "metadata": {},
   "outputs": [
    {
     "data": {
      "text/plain": [
       "221"
      ]
     },
     "execution_count": 23,
     "metadata": {},
     "output_type": "execute_result"
    }
   ],
   "source": [
    "all_genres = sum(list_genre,[])\n",
    "len(set(all_genres))"
   ]
  },
  {
   "cell_type": "code",
   "execution_count": 24,
   "id": "ad41058f",
   "metadata": {},
   "outputs": [
    {
     "data": {
      "text/plain": [
       "FreqDist({})"
      ]
     },
     "execution_count": 24,
     "metadata": {},
     "output_type": "execute_result"
    }
   ],
   "source": [
    "all_genres = nltk.FreqDist() \n",
    "all_genres"
   ]
  },
  {
   "cell_type": "code",
   "execution_count": 25,
   "id": "e359d8c2",
   "metadata": {},
   "outputs": [],
   "source": [
    "all_genres_df = pd.DataFrame({'Genre': list(all_genres.keys()), \n",
    "                              'Count': list(all_genres.values())})"
   ]
  },
  {
   "cell_type": "code",
   "execution_count": 26,
   "id": "11739819",
   "metadata": {
    "scrolled": true
   },
   "outputs": [],
   "source": [
    "g = all_genres_df.nlargest(columns=\"Count\", n = 50) "
   ]
  },
  {
   "cell_type": "code",
   "execution_count": 30,
   "id": "01885a72",
   "metadata": {},
   "outputs": [],
   "source": [
    "temp_list = []\n",
    "for i in classif_dataset['Genre']:\n",
    "    x = len(temp_list)\n",
    "    for j in i:\n",
    "        if 'fiction' in j.lower():\n",
    "            temp_list.append('fiction')\n",
    "            break\n",
    "    if x == len(temp_list):\n",
    "        temp_list.append('non fiction')"
   ]
  },
  {
   "cell_type": "code",
   "execution_count": 31,
   "id": "e3e0b9cf",
   "metadata": {},
   "outputs": [],
   "source": [
    "classif_dataset['New Genre'] = temp_list"
   ]
  },
  {
   "cell_type": "code",
   "execution_count": 32,
   "id": "1569fae8",
   "metadata": {},
   "outputs": [
    {
     "data": {
      "text/html": [
       "<div>\n",
       "<style scoped>\n",
       "    .dataframe tbody tr th:only-of-type {\n",
       "        vertical-align: middle;\n",
       "    }\n",
       "\n",
       "    .dataframe tbody tr th {\n",
       "        vertical-align: top;\n",
       "    }\n",
       "\n",
       "    .dataframe thead th {\n",
       "        text-align: right;\n",
       "    }\n",
       "</style>\n",
       "<table border=\"1\" class=\"dataframe\">\n",
       "  <thead>\n",
       "    <tr style=\"text-align: right;\">\n",
       "      <th></th>\n",
       "      <th>Summary</th>\n",
       "      <th>Genre</th>\n",
       "      <th>New Genre</th>\n",
       "    </tr>\n",
       "  </thead>\n",
       "  <tbody>\n",
       "    <tr>\n",
       "      <th>0</th>\n",
       "      <td>old major old boar manor farm call animal farm...</td>\n",
       "      <td>[Roman à clef, Satire, Children's literature, ...</td>\n",
       "      <td>fiction</td>\n",
       "    </tr>\n",
       "    <tr>\n",
       "      <th>1</th>\n",
       "      <td>alex teenager living near future england lead ...</td>\n",
       "      <td>[Science Fiction, Novella, Speculative fiction...</td>\n",
       "      <td>fiction</td>\n",
       "    </tr>\n",
       "    <tr>\n",
       "      <th>2</th>\n",
       "      <td>text plague divided five part town oran thousa...</td>\n",
       "      <td>[Existentialism, Fiction, Absurdist fiction, N...</td>\n",
       "      <td>fiction</td>\n",
       "    </tr>\n",
       "    <tr>\n",
       "      <th>3</th>\n",
       "      <td>novel posit space around milky way divided con...</td>\n",
       "      <td>[Hard science fiction, Science Fiction, Specul...</td>\n",
       "      <td>fiction</td>\n",
       "    </tr>\n",
       "    <tr>\n",
       "      <th>4</th>\n",
       "      <td>book tell story paul b umer german soldier urg...</td>\n",
       "      <td>[War novel, Roman à clef]</td>\n",
       "      <td>non fiction</td>\n",
       "    </tr>\n",
       "    <tr>\n",
       "      <th>...</th>\n",
       "      <td>...</td>\n",
       "      <td>...</td>\n",
       "      <td>...</td>\n",
       "    </tr>\n",
       "    <tr>\n",
       "      <th>12050</th>\n",
       "      <td>story start former government agent frank comp...</td>\n",
       "      <td>[Science Fiction]</td>\n",
       "      <td>fiction</td>\n",
       "    </tr>\n",
       "    <tr>\n",
       "      <th>12051</th>\n",
       "      <td>series follows character nick stone ex militar...</td>\n",
       "      <td>[Thriller, Fiction, Suspense]</td>\n",
       "      <td>fiction</td>\n",
       "    </tr>\n",
       "    <tr>\n",
       "      <th>12052</th>\n",
       "      <td>reader first meet rapp covert operation iran d...</td>\n",
       "      <td>[Thriller, Fiction]</td>\n",
       "      <td>fiction</td>\n",
       "    </tr>\n",
       "    <tr>\n",
       "      <th>12053</th>\n",
       "      <td>book follows rough chronological order switchi...</td>\n",
       "      <td>[Autobiography]</td>\n",
       "      <td>non fiction</td>\n",
       "    </tr>\n",
       "    <tr>\n",
       "      <th>12054</th>\n",
       "      <td>makar devushkin varvara dobroselova second cou...</td>\n",
       "      <td>[Epistolary novel, Speculative fiction]</td>\n",
       "      <td>fiction</td>\n",
       "    </tr>\n",
       "  </tbody>\n",
       "</table>\n",
       "<p>12055 rows × 3 columns</p>\n",
       "</div>"
      ],
      "text/plain": [
       "                                                 Summary  \\\n",
       "0      old major old boar manor farm call animal farm...   \n",
       "1      alex teenager living near future england lead ...   \n",
       "2      text plague divided five part town oran thousa...   \n",
       "3      novel posit space around milky way divided con...   \n",
       "4      book tell story paul b umer german soldier urg...   \n",
       "...                                                  ...   \n",
       "12050  story start former government agent frank comp...   \n",
       "12051  series follows character nick stone ex militar...   \n",
       "12052  reader first meet rapp covert operation iran d...   \n",
       "12053  book follows rough chronological order switchi...   \n",
       "12054  makar devushkin varvara dobroselova second cou...   \n",
       "\n",
       "                                                   Genre    New Genre  \n",
       "0      [Roman à clef, Satire, Children's literature, ...      fiction  \n",
       "1      [Science Fiction, Novella, Speculative fiction...      fiction  \n",
       "2      [Existentialism, Fiction, Absurdist fiction, N...      fiction  \n",
       "3      [Hard science fiction, Science Fiction, Specul...      fiction  \n",
       "4                              [War novel, Roman à clef]  non fiction  \n",
       "...                                                  ...          ...  \n",
       "12050                                  [Science Fiction]      fiction  \n",
       "12051                      [Thriller, Fiction, Suspense]      fiction  \n",
       "12052                                [Thriller, Fiction]      fiction  \n",
       "12053                                    [Autobiography]  non fiction  \n",
       "12054            [Epistolary novel, Speculative fiction]      fiction  \n",
       "\n",
       "[12055 rows x 3 columns]"
      ]
     },
     "execution_count": 32,
     "metadata": {},
     "output_type": "execute_result"
    }
   ],
   "source": [
    "classif_dataset"
   ]
  },
  {
   "cell_type": "code",
   "execution_count": 33,
   "id": "e78cbfb6",
   "metadata": {},
   "outputs": [
    {
     "data": {
      "text/html": [
       "<div>\n",
       "<style scoped>\n",
       "    .dataframe tbody tr th:only-of-type {\n",
       "        vertical-align: middle;\n",
       "    }\n",
       "\n",
       "    .dataframe tbody tr th {\n",
       "        vertical-align: top;\n",
       "    }\n",
       "\n",
       "    .dataframe thead th {\n",
       "        text-align: right;\n",
       "    }\n",
       "</style>\n",
       "<table border=\"1\" class=\"dataframe\">\n",
       "  <thead>\n",
       "    <tr style=\"text-align: right;\">\n",
       "      <th></th>\n",
       "      <th>Summary</th>\n",
       "      <th>Genre</th>\n",
       "    </tr>\n",
       "  </thead>\n",
       "  <tbody>\n",
       "    <tr>\n",
       "      <th>0</th>\n",
       "      <td>old major old boar manor farm call animal farm...</td>\n",
       "      <td>fiction</td>\n",
       "    </tr>\n",
       "    <tr>\n",
       "      <th>1</th>\n",
       "      <td>alex teenager living near future england lead ...</td>\n",
       "      <td>fiction</td>\n",
       "    </tr>\n",
       "    <tr>\n",
       "      <th>2</th>\n",
       "      <td>text plague divided five part town oran thousa...</td>\n",
       "      <td>fiction</td>\n",
       "    </tr>\n",
       "    <tr>\n",
       "      <th>3</th>\n",
       "      <td>novel posit space around milky way divided con...</td>\n",
       "      <td>fiction</td>\n",
       "    </tr>\n",
       "    <tr>\n",
       "      <th>4</th>\n",
       "      <td>book tell story paul b umer german soldier urg...</td>\n",
       "      <td>non fiction</td>\n",
       "    </tr>\n",
       "    <tr>\n",
       "      <th>...</th>\n",
       "      <td>...</td>\n",
       "      <td>...</td>\n",
       "    </tr>\n",
       "    <tr>\n",
       "      <th>12050</th>\n",
       "      <td>story start former government agent frank comp...</td>\n",
       "      <td>fiction</td>\n",
       "    </tr>\n",
       "    <tr>\n",
       "      <th>12051</th>\n",
       "      <td>series follows character nick stone ex militar...</td>\n",
       "      <td>fiction</td>\n",
       "    </tr>\n",
       "    <tr>\n",
       "      <th>12052</th>\n",
       "      <td>reader first meet rapp covert operation iran d...</td>\n",
       "      <td>fiction</td>\n",
       "    </tr>\n",
       "    <tr>\n",
       "      <th>12053</th>\n",
       "      <td>book follows rough chronological order switchi...</td>\n",
       "      <td>non fiction</td>\n",
       "    </tr>\n",
       "    <tr>\n",
       "      <th>12054</th>\n",
       "      <td>makar devushkin varvara dobroselova second cou...</td>\n",
       "      <td>fiction</td>\n",
       "    </tr>\n",
       "  </tbody>\n",
       "</table>\n",
       "<p>12055 rows × 2 columns</p>\n",
       "</div>"
      ],
      "text/plain": [
       "                                                 Summary        Genre\n",
       "0      old major old boar manor farm call animal farm...      fiction\n",
       "1      alex teenager living near future england lead ...      fiction\n",
       "2      text plague divided five part town oran thousa...      fiction\n",
       "3      novel posit space around milky way divided con...      fiction\n",
       "4      book tell story paul b umer german soldier urg...  non fiction\n",
       "...                                                  ...          ...\n",
       "12050  story start former government agent frank comp...      fiction\n",
       "12051  series follows character nick stone ex militar...      fiction\n",
       "12052  reader first meet rapp covert operation iran d...      fiction\n",
       "12053  book follows rough chronological order switchi...  non fiction\n",
       "12054  makar devushkin varvara dobroselova second cou...      fiction\n",
       "\n",
       "[12055 rows x 2 columns]"
      ]
     },
     "execution_count": 33,
     "metadata": {},
     "output_type": "execute_result"
    }
   ],
   "source": [
    "dataset = classif_dataset.drop(['Genre'], axis=1)\n",
    "dataset = dataset.rename(columns={'New Genre': 'Genre'})\n",
    "dataset"
   ]
  },
  {
   "cell_type": "code",
   "execution_count": 34,
   "id": "1001bc71",
   "metadata": {},
   "outputs": [
    {
     "data": {
      "text/plain": [
       "fiction        8684\n",
       "non fiction    3371\n",
       "Name: Genre, dtype: int64"
      ]
     },
     "execution_count": 34,
     "metadata": {},
     "output_type": "execute_result"
    }
   ],
   "source": [
    "dataset['Genre'].value_counts()"
   ]
  },
  {
   "cell_type": "code",
   "execution_count": 65,
   "id": "5c73b4fd",
   "metadata": {},
   "outputs": [],
   "source": [
    "xtrain, xtest, ytrain, ytest = train_test_data(dataset['Summary'], dataset['Genre'])"
   ]
  },
  {
   "cell_type": "markdown",
   "id": "f4c7a37e",
   "metadata": {},
   "source": [
    "# binary classification"
   ]
  },
  {
   "cell_type": "markdown",
   "id": "f1b64e40",
   "metadata": {},
   "source": [
    "# BOW"
   ]
  },
  {
   "cell_type": "code",
   "execution_count": 66,
   "id": "6ef0c6ba",
   "metadata": {},
   "outputs": [],
   "source": [
    "#xtrain, xtest, ytrain, ytest\n",
    "def model_bow(data_train, data_test):\n",
    "    bow_vectorizer = CountVectorizer()\n",
    "    bow_train_model = bow_vectorizer.fit_transform(data_train)\n",
    "    bow_features_train = pd.DataFrame(bow_train_model.toarray(), columns = bow_vectorizer.get_feature_names())\n",
    "    \n",
    "    bow_test_model = bow_vectorizer.transform(data_test)\n",
    "    bow_features_test = pd.DataFrame(bow_test_model.toarray(), columns = bow_vectorizer.get_feature_names())\n",
    "    return bow_features_train, bow_features_test"
   ]
  },
  {
   "cell_type": "code",
   "execution_count": 67,
   "id": "a3b2bda2",
   "metadata": {},
   "outputs": [],
   "source": [
    "bow_train_data, bow_test_data = model_bow(xtrain, xtest)"
   ]
  },
  {
   "cell_type": "code",
   "execution_count": 68,
   "id": "f8a198e0",
   "metadata": {},
   "outputs": [
    {
     "name": "stdout",
     "output_type": "stream",
     "text": [
      "72.40807298866464\n"
     ]
    },
    {
     "data": {
      "text/plain": [
       "<sklearn.metrics._plot.confusion_matrix.ConfusionMatrixDisplay at 0x2160ace6c70>"
      ]
     },
     "execution_count": 68,
     "metadata": {},
     "output_type": "execute_result"
    },
    {
     "data": {
      "image/png": "[encoded data removed]",
      "text/plain": [
       "<Figure size 432x288 with 2 Axes>"
      ]
     },
     "metadata": {
      "needs_background": "light"
     },
     "output_type": "display_data"
    }
   ],
   "source": [
    "model = MultinomialNB()\n",
    "#clf = OneVsRestClassifier(model)\n",
    "model.fit(bow_train_data, ytrain)\n",
    "ypred = model.predict(bow_test_data)\n",
    "print(accuracy_score(ytest, ypred)*100)\n",
    "plot_confusion_matrix(model, bow_test_data, ytest)"
   ]
  },
  {
   "cell_type": "markdown",
   "id": "fc8cca37",
   "metadata": {},
   "source": [
    "# under sampling"
   ]
  },
  {
   "cell_type": "code",
   "execution_count": 69,
   "id": "0c829ac2",
   "metadata": {},
   "outputs": [],
   "source": [
    "from imblearn.under_sampling import RandomUnderSampler"
   ]
  },
  {
   "cell_type": "code",
   "execution_count": 70,
   "id": "6709d65c",
   "metadata": {},
   "outputs": [],
   "source": [
    "rus = RandomUnderSampler(random_state = 0, sampling_strategy = 'majority')\n",
    "x_res_rus, y_res_rus = rus.fit_resample(bow_train_data, ytrain)"
   ]
  },
  {
   "cell_type": "code",
   "execution_count": 71,
   "id": "0804d7e5",
   "metadata": {},
   "outputs": [
    {
     "name": "stdout",
     "output_type": "stream",
     "text": [
      "66.87862869781587\n"
     ]
    },
    {
     "data": {
      "text/plain": [
       "<sklearn.metrics._plot.confusion_matrix.ConfusionMatrixDisplay at 0x21980959400>"
      ]
     },
     "execution_count": 71,
     "metadata": {},
     "output_type": "execute_result"
    },
    {
     "data": {
      "image/png": "[encoded data removed]",
      "text/plain": [
       "<Figure size 432x288 with 2 Axes>"
      ]
     },
     "metadata": {
      "needs_background": "light"
     },
     "output_type": "display_data"
    }
   ],
   "source": [
    "model = MultinomialNB()\n",
    "#clf = OneVsRestClassifier(model)\n",
    "model.fit(x_res_rus, y_res_rus)\n",
    "ypred = model.predict(bow_test_data)\n",
    "print(accuracy_score(ytest, ypred)*100)\n",
    "plot_confusion_matrix(model, bow_test_data, ytest)"
   ]
  },
  {
   "cell_type": "markdown",
   "id": "98552e65",
   "metadata": {},
   "source": [
    "# Error analysis"
   ]
  },
  {
   "cell_type": "code",
   "execution_count": 133,
   "id": "11171831",
   "metadata": {},
   "outputs": [],
   "source": [
    "def error_analysis(dataset_test, model_label_pred, actual):\n",
    "    model_label_pred = pd.DataFrame(dataset_test)\n",
    "    model_label_pred[\"Prediction\"] = model_label_pred\n",
    "    model_label_pred[\"Genre\"] = actual\n",
    "    #df = pd.concat([dataset_test, model_label_pred], axis = 1, sort = False)\n",
    "    wrong_pred = model_label_pred.loc[df[\"Genre\"] != df[\"Prediction\"]]\n",
    "    \n",
    "    return wrong_pred"
   ]
  },
  {
   "cell_type": "code",
   "execution_count": 134,
   "id": "6766cf8c",
   "metadata": {},
   "outputs": [],
   "source": [
    "# print(accuracy_score(ytest, ypred_doc2vec))\n",
    "# print(f1_score(ytest, ypred_doc2vec, average = 'macro'))\n",
    "# print(recall_score(ytest, ypred_doc2vec, average = 'macro'))\n",
    "# print(precision_score(ytest, ypred_doc2vec, average = 'macro'))"
   ]
  },
  {
   "cell_type": "code",
   "execution_count": 135,
   "id": "375ef974",
   "metadata": {
    "scrolled": true
   },
   "outputs": [
    {
     "data": {
      "text/html": [
       "<div>\n",
       "<style scoped>\n",
       "    .dataframe tbody tr th:only-of-type {\n",
       "        vertical-align: middle;\n",
       "    }\n",
       "\n",
       "    .dataframe tbody tr th {\n",
       "        vertical-align: top;\n",
       "    }\n",
       "\n",
       "    .dataframe thead th {\n",
       "        text-align: right;\n",
       "    }\n",
       "</style>\n",
       "<table border=\"1\" class=\"dataframe\">\n",
       "  <thead>\n",
       "    <tr style=\"text-align: right;\">\n",
       "      <th></th>\n",
       "      <th>Summary</th>\n",
       "      <th>Prediction</th>\n",
       "      <th>Genre</th>\n",
       "    </tr>\n",
       "  </thead>\n",
       "  <tbody>\n",
       "    <tr>\n",
       "      <th>0</th>\n",
       "      <td>novel sequel doyle book woman walked door desc...</td>\n",
       "      <td>novel sequel doyle book woman walked door desc...</td>\n",
       "      <td>NaN</td>\n",
       "    </tr>\n",
       "    <tr>\n",
       "      <th>1</th>\n",
       "      <td>conner perfect boy handsome amazing grade amaz...</td>\n",
       "      <td>conner perfect boy handsome amazing grade amaz...</td>\n",
       "      <td>NaN</td>\n",
       "    </tr>\n",
       "    <tr>\n",
       "      <th>2</th>\n",
       "      <td>told point view unnamed narrator story begin b...</td>\n",
       "      <td>told point view unnamed narrator story begin b...</td>\n",
       "      <td>NaN</td>\n",
       "    </tr>\n",
       "    <tr>\n",
       "      <th>3</th>\n",
       "      <td>alice whittaker rich dowdy career life lonely ...</td>\n",
       "      <td>alice whittaker rich dowdy career life lonely ...</td>\n",
       "      <td>NaN</td>\n",
       "    </tr>\n",
       "    <tr>\n",
       "      <th>4</th>\n",
       "      <td>gould thesis wonderful life chance one decisiv...</td>\n",
       "      <td>gould thesis wonderful life chance one decisiv...</td>\n",
       "      <td>NaN</td>\n",
       "    </tr>\n",
       "    <tr>\n",
       "      <th>...</th>\n",
       "      <td>...</td>\n",
       "      <td>...</td>\n",
       "      <td>...</td>\n",
       "    </tr>\n",
       "    <tr>\n",
       "      <th>3612</th>\n",
       "      <td>dug mundane transported magic land xanth play ...</td>\n",
       "      <td>dug mundane transported magic land xanth play ...</td>\n",
       "      <td>NaN</td>\n",
       "    </tr>\n",
       "    <tr>\n",
       "      <th>3613</th>\n",
       "      <td>book black teenager named andre anderson love ...</td>\n",
       "      <td>book black teenager named andre anderson love ...</td>\n",
       "      <td>NaN</td>\n",
       "    </tr>\n",
       "    <tr>\n",
       "      <th>3614</th>\n",
       "      <td>passion spent written three part primarily vie...</td>\n",
       "      <td>passion spent written three part primarily vie...</td>\n",
       "      <td>NaN</td>\n",
       "    </tr>\n",
       "    <tr>\n",
       "      <th>3615</th>\n",
       "      <td>younger brother navajo indian living arizona w...</td>\n",
       "      <td>younger brother navajo indian living arizona w...</td>\n",
       "      <td>NaN</td>\n",
       "    </tr>\n",
       "    <tr>\n",
       "      <th>3616</th>\n",
       "      <td>police commissioner aurelio zen crossed sword ...</td>\n",
       "      <td>police commissioner aurelio zen crossed sword ...</td>\n",
       "      <td>NaN</td>\n",
       "    </tr>\n",
       "  </tbody>\n",
       "</table>\n",
       "<p>3617 rows × 3 columns</p>\n",
       "</div>"
      ],
      "text/plain": [
       "                                                Summary  \\\n",
       "0     novel sequel doyle book woman walked door desc...   \n",
       "1     conner perfect boy handsome amazing grade amaz...   \n",
       "2     told point view unnamed narrator story begin b...   \n",
       "3     alice whittaker rich dowdy career life lonely ...   \n",
       "4     gould thesis wonderful life chance one decisiv...   \n",
       "...                                                 ...   \n",
       "3612  dug mundane transported magic land xanth play ...   \n",
       "3613  book black teenager named andre anderson love ...   \n",
       "3614  passion spent written three part primarily vie...   \n",
       "3615  younger brother navajo indian living arizona w...   \n",
       "3616  police commissioner aurelio zen crossed sword ...   \n",
       "\n",
       "                                             Prediction Genre  \n",
       "0     novel sequel doyle book woman walked door desc...   NaN  \n",
       "1     conner perfect boy handsome amazing grade amaz...   NaN  \n",
       "2     told point view unnamed narrator story begin b...   NaN  \n",
       "3     alice whittaker rich dowdy career life lonely ...   NaN  \n",
       "4     gould thesis wonderful life chance one decisiv...   NaN  \n",
       "...                                                 ...   ...  \n",
       "3612  dug mundane transported magic land xanth play ...   NaN  \n",
       "3613  book black teenager named andre anderson love ...   NaN  \n",
       "3614  passion spent written three part primarily vie...   NaN  \n",
       "3615  younger brother navajo indian living arizona w...   NaN  \n",
       "3616  police commissioner aurelio zen crossed sword ...   NaN  \n",
       "\n",
       "[3617 rows x 3 columns]"
      ]
     },
     "execution_count": 135,
     "metadata": {},
     "output_type": "execute_result"
    }
   ],
   "source": [
    "df = error_analysis(xtest, ypred, ytest)\n",
    "df"
   ]
  },
  {
   "cell_type": "code",
   "execution_count": null,
   "id": "c1786449",
   "metadata": {},
   "outputs": [],
   "source": []
  },
  {
   "cell_type": "code",
   "execution_count": null,
   "id": "92092164",
   "metadata": {},
   "outputs": [],
   "source": []
  },
  {
   "cell_type": "code",
   "execution_count": null,
   "id": "116ae81d",
   "metadata": {},
   "outputs": [],
   "source": []
  },
  {
   "cell_type": "code",
   "execution_count": null,
   "id": "063705c6",
   "metadata": {},
   "outputs": [],
   "source": []
  }
 ],
 "metadata": {
  "kernelspec": {
   "display_name": "Python 3 (ipykernel)",
   "language": "python",
   "name": "python3"
  },
  "language_info": {
   "codemirror_mode": {
    "name": "ipython",
    "version": 3
   },
   "file_extension": ".py",
   "mimetype": "text/x-python",
   "name": "python",
   "nbconvert_exporter": "python",
   "pygments_lexer": "ipython3",
   "version": "3.9.7"
  }
 },
 "nbformat": 4,
 "nbformat_minor": 5
}
